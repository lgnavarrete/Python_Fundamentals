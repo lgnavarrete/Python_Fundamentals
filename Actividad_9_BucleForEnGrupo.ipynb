{
 "cells": [
  {
   "cell_type": "markdown",
   "id": "05c4e00c",
   "metadata": {},
   "source": [
    "# Actividad_9_Bucle For En Grupo"
   ]
  },
  {
   "cell_type": "code",
   "execution_count": 2,
   "id": "7ff82b93",
   "metadata": {
    "scrolled": false
   },
   "outputs": [
    {
     "name": "stdout",
     "output_type": "stream",
     "text": [
      "Ingrese el primer valor a comparar:18\n",
      "Ingrese el segundo valor a comparar:26\n",
      "El segundo numero es mayor 26\n"
     ]
    }
   ],
   "source": [
    "x = int(input('Ingrese el primer valor a comparar:'))\n",
    "y = int(input('Ingrese el segundo valor a comparar:'))\n",
    "if x == y:\n",
    "    print('Ambos numeros son iguales')\n",
    "elif x > y:\n",
    "    print('El primer numero que es igual a {0} es mayor al segundo que es igual a {1}'.format(x.y))\n",
    "elif x < y:\n",
    "    print('El segundo numero es mayor', y)"
   ]
  }
 ],
 "metadata": {
  "kernelspec": {
   "display_name": "Python 3 (ipykernel)",
   "language": "python",
   "name": "python3"
  },
  "language_info": {
   "codemirror_mode": {
    "name": "ipython",
    "version": 3
   },
   "file_extension": ".py",
   "mimetype": "text/x-python",
   "name": "python",
   "nbconvert_exporter": "python",
   "pygments_lexer": "ipython3",
   "version": "3.9.12"
  }
 },
 "nbformat": 4,
 "nbformat_minor": 5
}
