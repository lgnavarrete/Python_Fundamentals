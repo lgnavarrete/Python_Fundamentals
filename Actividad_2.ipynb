{
 "cells": [
  {
   "cell_type": "code",
   "execution_count": 1,
   "id": "93d28885",
   "metadata": {},
   "outputs": [],
   "source": [
    "tupla1 = (\"Python\", 9, 11.9, True, \"Fundamentals\")"
   ]
  },
  {
   "cell_type": "code",
   "execution_count": 2,
   "id": "2af1dc6f",
   "metadata": {},
   "outputs": [],
   "source": [
    "listatupla1 = list(tupla1)"
   ]
  },
  {
   "cell_type": "code",
   "execution_count": 3,
   "id": "ef8da572",
   "metadata": {},
   "outputs": [],
   "source": [
    "keys = [1,2,3,4,5]\n",
    "dic1 = dict.fromkeys(keys)"
   ]
  },
  {
   "cell_type": "code",
   "execution_count": 4,
   "id": "9cece813",
   "metadata": {},
   "outputs": [
    {
     "data": {
      "text/plain": [
       "{1: None, 2: None, 3: None, 4: None, 5: None}"
      ]
     },
     "execution_count": 4,
     "metadata": {},
     "output_type": "execute_result"
    }
   ],
   "source": [
    "dic1"
   ]
  },
  {
   "cell_type": "code",
   "execution_count": 5,
   "id": "7cf40c5b",
   "metadata": {},
   "outputs": [],
   "source": [
    "dic1[1] = listatupla1[0]\n",
    "dic1[2] = listatupla1[1]\n",
    "dic1[3] = listatupla1[2]\n",
    "dic1[4] = listatupla1[3]\n",
    "dic1[5] = listatupla1[4]"
   ]
  },
  {
   "cell_type": "code",
   "execution_count": 6,
   "id": "cc9fb6f7",
   "metadata": {},
   "outputs": [
    {
     "data": {
      "text/plain": [
       "{1: 'Python', 2: 9, 3: 11.9, 4: True, 5: 'Fundamentals'}"
      ]
     },
     "execution_count": 6,
     "metadata": {},
     "output_type": "execute_result"
    }
   ],
   "source": [
    "dic1"
   ]
  }
 ],
 "metadata": {
  "kernelspec": {
   "display_name": "Python 3 (ipykernel)",
   "language": "python",
   "name": "python3"
  },
  "language_info": {
   "codemirror_mode": {
    "name": "ipython",
    "version": 3
   },
   "file_extension": ".py",
   "mimetype": "text/x-python",
   "name": "python",
   "nbconvert_exporter": "python",
   "pygments_lexer": "ipython3",
   "version": "3.9.12"
  }
 },
 "nbformat": 4,
 "nbformat_minor": 5
}
