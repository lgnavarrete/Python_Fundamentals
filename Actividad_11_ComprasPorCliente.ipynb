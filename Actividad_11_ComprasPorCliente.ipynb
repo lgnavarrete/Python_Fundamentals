{
 "cells": [
  {
   "cell_type": "markdown",
   "metadata": {},
   "source": [
    "# Actividad_11_Compras por cliente"
   ]
  },
  {
   "cell_type": "code",
   "execution_count": 1,
   "metadata": {},
   "outputs": [
    {
     "name": "stdout",
     "output_type": "stream",
     "text": [
      "Ingrese el monto de la compra (0 para salir):100\n",
      "Ingrese el monto de la compra (0 para salir):200\n",
      "Ingrese el monto de la compra (0 para salir):0\n",
      "Cantidad de artícuos comprados: 2\n",
      "Total a pagar: 300.0\n"
     ]
    }
   ],
   "source": [
    "conteo = 0\n",
    "total = 0\n",
    "monto = float(input(\"Ingrese el monto de la compra (0 para salir):\"))\n",
    "while monto!= 0:\n",
    "    while monto < 0:\n",
    "        monto = float(input(\"El monto de la compra no debe ser negativo, intente de nuevo (0 para salir):\"))\n",
    "    if monto!= 0:\n",
    "        total+=monto\n",
    "        conteo+=1\n",
    "        monto=float(input(\"Ingrese el monto de la compra (0 para salir):\"))\n",
    "print(\"Cantidad de artícuos comprados:\" ,conteo)\n",
    "if total > 1000:\n",
    "    print(\"Subtotal:\" ,total, \"\\nDesuento:\" ,total*.1,\"\\nTotal a pagar:\" ,total*.9)\n",
    "else:\n",
    "    print(\"Total a pagar:\" ,total)"
   ]
  }
 ],
 "metadata": {
  "kernelspec": {
   "display_name": "Python 3 (ipykernel)",
   "language": "python",
   "name": "python3"
  },
  "language_info": {
   "codemirror_mode": {
    "name": "ipython",
    "version": 3
   },
   "file_extension": ".py",
   "mimetype": "text/x-python",
   "name": "python",
   "nbconvert_exporter": "python",
   "pygments_lexer": "ipython3",
   "version": "3.9.12"
  },
  "vscode": {
   "interpreter": {
    "hash": "c07c4be9a6a250ff8474fdea102ae4fd6c908ba9a25e0ae1a2143af3d3457147"
   }
  }
 },
 "nbformat": 4,
 "nbformat_minor": 2
}
