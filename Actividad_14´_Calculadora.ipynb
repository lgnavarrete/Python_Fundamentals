{
 "cells": [
  {
   "cell_type": "code",
   "execution_count": 1,
   "id": "c9adf4e9",
   "metadata": {},
   "outputs": [],
   "source": [
    "class Calculadora:\n",
    "    \"Calculadora de 4 operaciones: suma, resta, multiplicación, división\"\n",
    "    \n",
    "    def Suma(self, a,b):\n",
    "        return a+b\n",
    "    \n",
    "    def Resta(self, a,b):\n",
    "        return a-b\n",
    "    \n",
    "    def Mult(self, a,b):\n",
    "        return a*b\n",
    "    \n",
    "    def Division(self, a,b):\n",
    "        if b == 0:\n",
    "            print(\"No es posible dividir entre 0\")\n",
    "        else:\n",
    "            return a/b"
   ]
  },
  {
   "cell_type": "code",
   "execution_count": 3,
   "id": "fdf16222",
   "metadata": {},
   "outputs": [
    {
     "data": {
      "text/plain": [
       "4"
      ]
     },
     "execution_count": 3,
     "metadata": {},
     "output_type": "execute_result"
    }
   ],
   "source": [
    "Calculadora().Suma(2,2)"
   ]
  },
  {
   "cell_type": "code",
   "execution_count": 5,
   "id": "ef2b4a6d",
   "metadata": {},
   "outputs": [
    {
     "data": {
      "text/plain": [
       "3"
      ]
     },
     "execution_count": 5,
     "metadata": {},
     "output_type": "execute_result"
    }
   ],
   "source": [
    "Calculadora().Resta(5,2)"
   ]
  },
  {
   "cell_type": "code",
   "execution_count": 6,
   "id": "3b3579a0",
   "metadata": {},
   "outputs": [
    {
     "data": {
      "text/plain": [
       "9"
      ]
     },
     "execution_count": 6,
     "metadata": {},
     "output_type": "execute_result"
    }
   ],
   "source": [
    "Calculadora().Mult(3,3)"
   ]
  },
  {
   "cell_type": "code",
   "execution_count": 8,
   "id": "71d32ca2",
   "metadata": {},
   "outputs": [
    {
     "name": "stdout",
     "output_type": "stream",
     "text": [
      "No es posible dividir entre 0\n"
     ]
    }
   ],
   "source": [
    "Calculadora().Division(10,0)"
   ]
  },
  {
   "cell_type": "code",
   "execution_count": 9,
   "id": "7ca97480",
   "metadata": {},
   "outputs": [
    {
     "data": {
      "text/plain": [
       "5.0"
      ]
     },
     "execution_count": 9,
     "metadata": {},
     "output_type": "execute_result"
    }
   ],
   "source": [
    "Calculadora().Division(10,2)"
   ]
  }
 ],
 "metadata": {
  "kernelspec": {
   "display_name": "Python 3 (ipykernel)",
   "language": "python",
   "name": "python3"
  },
  "language_info": {
   "codemirror_mode": {
    "name": "ipython",
    "version": 3
   },
   "file_extension": ".py",
   "mimetype": "text/x-python",
   "name": "python",
   "nbconvert_exporter": "python",
   "pygments_lexer": "ipython3",
   "version": "3.9.12"
  }
 },
 "nbformat": 4,
 "nbformat_minor": 5
}
