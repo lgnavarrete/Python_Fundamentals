{
 "cells": [
  {
   "cell_type": "markdown",
   "id": "ae7db7a1",
   "metadata": {},
   "source": [
    "# Actividad_8_Edad"
   ]
  },
  {
   "cell_type": "code",
   "execution_count": 1,
   "id": "52e1f55d",
   "metadata": {},
   "outputs": [
    {
     "name": "stdout",
     "output_type": "stream",
     "text": [
      "¿Cuantos años tienes?26\n",
      "Ya eres mayor de edad\n"
     ]
    }
   ],
   "source": [
    "# Actividad 8. Hagamos un programa que determine si eres mayor de edad o no\n",
    "a = int(input (\"¿Cuantos años tienes?\"))\n",
    "if(a < 18):\n",
    "    print(\"Aun no eres mayor de edad\")\n",
    "else:\n",
    "    print(\"Ya eres mayor de edad\")"
   ]
  }
 ],
 "metadata": {
  "kernelspec": {
   "display_name": "Python 3 (ipykernel)",
   "language": "python",
   "name": "python3"
  },
  "language_info": {
   "codemirror_mode": {
    "name": "ipython",
    "version": 3
   },
   "file_extension": ".py",
   "mimetype": "text/x-python",
   "name": "python",
   "nbconvert_exporter": "python",
   "pygments_lexer": "ipython3",
   "version": "3.9.12"
  }
 },
 "nbformat": 4,
 "nbformat_minor": 5
}
