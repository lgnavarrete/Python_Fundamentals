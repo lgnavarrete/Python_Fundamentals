{
 "cells": [
  {
   "cell_type": "markdown",
   "id": "ae574aa2",
   "metadata": {},
   "source": [
    "# Actividad_12_Función Cuadrática"
   ]
  },
  {
   "cell_type": "code",
   "execution_count": 5,
   "id": "53230144",
   "metadata": {},
   "outputs": [],
   "source": [
    "import cmath as cmt\n",
    "import math as mt\n",
    "def f_general(a,b,c):\n",
    "    if (b**2 - 4*a*c) < 0:\n",
    "        print(\"Las raíces son imaginarias.\")\n",
    "        x1 = (-b + cmt.sqrt(b**2 - 4*a*c))/(2*a)\n",
    "        x2 = (-b - cmt.sqrt(b**2 - 4*a*c))/(2*a)\n",
    "        print(\"El valor de x1 es: {0}\\nEl valor de x2 es: {1}\".format(x1,x2))\n",
    "    else:\n",
    "        x1 = (-b + mt.sqrt(b**2 - 4*a*c))/(2*a)\n",
    "        x2 = (-b - mt.sqrt(b**2 - 4*a*c))/(2*a)\n",
    "        print(\"El valor de x1 es: {0}\\nEl valor de x2 es: {1}\".format(x1,x2))"
   ]
  },
  {
   "cell_type": "code",
   "execution_count": 6,
   "id": "a3250af6",
   "metadata": {},
   "outputs": [
    {
     "name": "stdout",
     "output_type": "stream",
     "text": [
      "Las raíces son imaginarias.\n",
      "El valor de x1 es: (-1+1.4142135623730951j)\n",
      "El valor de x2 es: (-1-1.4142135623730951j)\n"
     ]
    }
   ],
   "source": [
    "f_general(5,10,15)"
   ]
  },
  {
   "cell_type": "code",
   "execution_count": 8,
   "id": "e53c8815",
   "metadata": {},
   "outputs": [
    {
     "name": "stdout",
     "output_type": "stream",
     "text": [
      "El valor de x1 es: -0.3406038420194416\n",
      "El valor de x2 es: -2.5165390151234157\n"
     ]
    }
   ],
   "source": [
    "f_general(7,20,6)"
   ]
  },
  {
   "cell_type": "markdown",
   "id": "00c86b48",
   "metadata": {},
   "source": [
    "###### "
   ]
  }
 ],
 "metadata": {
  "kernelspec": {
   "display_name": "Python 3 (ipykernel)",
   "language": "python",
   "name": "python3"
  },
  "language_info": {
   "codemirror_mode": {
    "name": "ipython",
    "version": 3
   },
   "file_extension": ".py",
   "mimetype": "text/x-python",
   "name": "python",
   "nbconvert_exporter": "python",
   "pygments_lexer": "ipython3",
   "version": "3.9.12"
  }
 },
 "nbformat": 4,
 "nbformat_minor": 5
}
