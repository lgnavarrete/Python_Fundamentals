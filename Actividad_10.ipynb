{
 "cells": [
  {
   "cell_type": "code",
   "execution_count": 1,
   "metadata": {},
   "outputs": [
    {
     "name": "stdout",
     "output_type": "stream",
     "text": [
      "Miguel 18\n",
      "Edwin 23\n",
      "Erick 28\n",
      "Pedro 16\n",
      "Pau 25\n",
      "Liliana 20\n",
      "Marco 25\n",
      "Claudia 21\n",
      "Rolando 27\n",
      "El numero menor es 16 y el numero mayor es 28\n"
     ]
    }
   ],
   "source": [
    "# Cada companero dira un numero. Los guardaras en un diccionario junto con el nombre de tu pareja\n",
    "max = 0\n",
    "min = 999\n",
    "dic = {\"Miguel\":18,\"Edwin\":23,\"Erick\":28,\"Pedro\":16,\"Pau\":25,\"Liliana\":20,\"Marco\":25,\"Claudia\":21,\"Rolando\":27}\n",
    "for k,v in dic.items():\n",
    "    print (k,v)\n",
    "    if(v>max):\n",
    "        max = v\n",
    "    if(v<min):\n",
    "        min = v;\n",
    "print(\"El numero menor es\", min, \"y el numero mayor es\", max)"
   ]
  },
  {
   "cell_type": "code",
   "execution_count": null,
   "metadata": {},
   "outputs": [],
   "source": []
  }
 ],
 "metadata": {
  "kernelspec": {
   "display_name": "Python 3.9.12 ('base')",
   "language": "python",
   "name": "python3"
  },
  "language_info": {
   "codemirror_mode": {
    "name": "ipython",
    "version": 3
   },
   "file_extension": ".py",
   "mimetype": "text/x-python",
   "name": "python",
   "nbconvert_exporter": "python",
   "pygments_lexer": "ipython3",
   "version": "3.9.12"
  },
  "orig_nbformat": 4,
  "vscode": {
   "interpreter": {
    "hash": "c07c4be9a6a250ff8474fdea102ae4fd6c908ba9a25e0ae1a2143af3d3457147"
   }
  }
 },
 "nbformat": 4,
 "nbformat_minor": 2
}
