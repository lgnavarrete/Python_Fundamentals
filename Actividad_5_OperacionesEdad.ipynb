{
 "cells": [
  {
   "cell_type": "markdown",
   "id": "63fb20b8",
   "metadata": {},
   "source": [
    "# Actividad 5_Operaciones Edad"
   ]
  },
  {
   "cell_type": "code",
   "execution_count": 1,
   "id": "cf2ba9ae",
   "metadata": {},
   "outputs": [
    {
     "name": "stdout",
     "output_type": "stream",
     "text": [
      "Mi edad es: 12.0\n"
     ]
    }
   ],
   "source": [
    "#El doble de mi edad tiene 24 años,¿Cuántos años tengo?\n",
    "x = 24/2\n",
    "print(\"Mi edad es:\",x)"
   ]
  },
  {
   "cell_type": "code",
   "execution_count": 2,
   "id": "ccf14712",
   "metadata": {},
   "outputs": [
    {
     "name": "stdout",
     "output_type": "stream",
     "text": [
      "La edad de mi hermana es: 63\n"
     ]
    }
   ],
   "source": [
    "#A un tercio de la edad de mi hermana la disminuyo en 15 años. Tengo 6 años. ¿Qué edad tiene?\n",
    "a = 6\n",
    "y = (a+15)*3\n",
    "print(\"La edad de mi hermana es:\",y)"
   ]
  },
  {
   "cell_type": "code",
   "execution_count": 3,
   "id": "f6a21c56",
   "metadata": {},
   "outputs": [
    {
     "data": {
      "text/plain": [
       "False"
      ]
     },
     "execution_count": 3,
     "metadata": {},
     "output_type": "execute_result"
    }
   ],
   "source": [
    "#Determina quien es más grande\n",
    "a>x"
   ]
  }
 ],
 "metadata": {
  "kernelspec": {
   "display_name": "Python 3 (ipykernel)",
   "language": "python",
   "name": "python3"
  },
  "language_info": {
   "codemirror_mode": {
    "name": "ipython",
    "version": 3
   },
   "file_extension": ".py",
   "mimetype": "text/x-python",
   "name": "python",
   "nbconvert_exporter": "python",
   "pygments_lexer": "ipython3",
   "version": "3.9.12"
  }
 },
 "nbformat": 4,
 "nbformat_minor": 5
}
