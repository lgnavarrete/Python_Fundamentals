{
 "cells": [
  {
   "cell_type": "code",
   "execution_count": 1,
   "id": "ac3e88d5",
   "metadata": {},
   "outputs": [],
   "source": [
    "import pandas as pd\n",
    "data_students = pd.read_csv(\"C:/Users/lgnavarrete/Documents/FundamentalsPython/clean_students_complete.csv\")"
   ]
  },
  {
   "cell_type": "code",
   "execution_count": 2,
   "id": "b76fd58f",
   "metadata": {},
   "outputs": [
    {
     "data": {
      "text/plain": [
       "grade\n",
       "10th    10168\n",
       "11th     9695\n",
       "12th     7899\n",
       "9th     11408\n",
       "Name: student_name, dtype: int64"
      ]
     },
     "execution_count": 2,
     "metadata": {},
     "output_type": "execute_result"
    }
   ],
   "source": [
    "data_students.groupby(\"grade\").count()[\"student_name\"]"
   ]
  }
 ],
 "metadata": {
  "kernelspec": {
   "display_name": "Python 3 (ipykernel)",
   "language": "python",
   "name": "python3"
  },
  "language_info": {
   "codemirror_mode": {
    "name": "ipython",
    "version": 3
   },
   "file_extension": ".py",
   "mimetype": "text/x-python",
   "name": "python",
   "nbconvert_exporter": "python",
   "pygments_lexer": "ipython3",
   "version": "3.9.12"
  }
 },
 "nbformat": 4,
 "nbformat_minor": 5
}
